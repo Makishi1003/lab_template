{
 "cells": [
  {
   "attachments": {},
   "cell_type": "markdown",
   "metadata": {},
   "source": [
    "# While文\n",
    "- while文は、指定した条件がTrueの間、繰り返し処理を行うために使用される制御構造\n",
    "- while文の構文は以下のようになる"
   ]
  },
  {
   "attachments": {},
   "cell_type": "markdown",
   "metadata": {},
   "source": [
    "```python\n",
    "while 条件式:\n",
    "  処理\n",
    "```\n"
   ]
  },
  {
   "attachments": {},
   "cell_type": "markdown",
   "metadata": {},
   "source": [
    "- つまり条件式がTrueである場合無限ループに入る\n",
    "- そのため条件式はループの最後に何かしらの変化が必要となる\n",
    "  - 以下に例を示す"
   ]
  },
  {
   "cell_type": "code",
   "execution_count": 1,
   "metadata": {},
   "outputs": [
    {
     "name": "stdout",
     "output_type": "stream",
     "text": [
      "1\n",
      "2\n",
      "3\n",
      "4\n",
      "5\n",
      "6\n",
      "7\n",
      "8\n",
      "9\n"
     ]
    }
   ],
   "source": [
    "n = 1\n",
    "while n < 10:\n",
    "    print(n)\n",
    "    n += 1 # ここの記載がないと無限ループになる"
   ]
  },
  {
   "attachments": {},
   "cell_type": "markdown",
   "metadata": {},
   "source": [
    "## while文とよく一緒に使われる処理\n",
    "- 処理を強制終了させたい時や,ある条件の時だけ処理をスキップしたい時などに使う\n",
    "- 以下に1~10を表示するが3の時はスキップ9が出力されたら強制終了を行うコードを書く"
   ]
  },
  {
   "cell_type": "code",
   "execution_count": 5,
   "metadata": {},
   "outputs": [
    {
     "name": "stdout",
     "output_type": "stream",
     "text": [
      "1\n",
      "2\n",
      "4\n",
      "5\n",
      "6\n",
      "7\n",
      "8\n"
     ]
    }
   ],
   "source": [
    "n = 0\n",
    "while True:\n",
    "  n += 1\n",
    "  if n == 3:\n",
    "    continue\n",
    "  if n == 9:\n",
    "    break\n",
    "  print(n)"
   ]
  },
  {
   "attachments": {},
   "cell_type": "markdown",
   "metadata": {},
   "source": [
    "- continueはその処理が走った時点でwhileの先頭に戻る\n",
    "- breakはwhile文から完全に抜けることを意味する"
   ]
  }
 ],
 "metadata": {
  "kernelspec": {
   "display_name": "Python 3",
   "language": "python",
   "name": "python3"
  },
  "language_info": {
   "codemirror_mode": {
    "name": "ipython",
    "version": 3
   },
   "file_extension": ".py",
   "mimetype": "text/x-python",
   "name": "python",
   "nbconvert_exporter": "python",
   "pygments_lexer": "ipython3",
   "version": "3.11.3"
  },
  "orig_nbformat": 4
 },
 "nbformat": 4,
 "nbformat_minor": 2
}
