{
 "cells": [
  {
   "attachments": {},
   "cell_type": "markdown",
   "metadata": {},
   "source": [
    "## 勉強の手順\n",
    "- それぞれファイルが入っているので,それを参照して勉強を進めてください\n",
    "- 手順に沿ってファイルを開き,その中のmain.ipynbを参照してください\n",
    "- また新しいファイルを開いたら一番上の[全てを実行ボタン]を推してください\n"
   ]
  },
  {
   "attachments": {},
   "cell_type": "markdown",
   "metadata": {},
   "source": [
    "## セットアップ方法\n",
    "- 今回はjupyterを用いて開発を行なっていくので以下をインストールしてください(入っている人はスキップしてください)\n",
    "  1. [vscodeのインストールを行う](https://go.microsoft.com/fwlink/p/?linkid=2216501&clcid=0x411&culture=ja-jp&country=jp)\n",
    "  2. [Pythonのインストールを行う(Anaconda)](https://www.anaconda.com/download)\n",
    "  3. [Vscodeの中にPythonの拡張機能を入れる](https://marketplace.visualstudio.com/items?itemName=ms-python.python)\n",
    "  4. [Vscodeの中にAnacondaの拡張機能を入れる](https://marketplace.visualstudio.com/items?itemName=ms-toolsai.jupyter)\n",
    "\n",
    "### セットアップは以上ですお疲れ様でした！"
   ]
  },
  {
   "attachments": {},
   "cell_type": "markdown",
   "metadata": {},
   "source": [
    "## 見るファイルの順番\n",
    "- 以下の順番で進めてください(クリックするとそのファイルに飛ぶようになっております)\n",
    "1. [変数](../step1/main.ipynb)\n",
    "2. [四則演算](../step2/main.ipynb)\n",
    "3. [比較演算子](../step3/main.ipynb)\n",
    "4. [論理演算子](../step4/main.ipynb)\n",
    "5. [if文](../step5/main.ipynb)\n",
    "6. [for文](../step6/main.ipynb)\n",
    "7. [while文](../step7/main.ipynb)\n",
    "8. [関数](../step8/main.ipynb)\n",
    "\n",
    "続きは気が向いたら作ります(オブジェクト指向,class,インスタンス,コンストラクタ,ファイル操作,仮想環境,アプリ開発などなど)"
   ]
  }
 ],
 "metadata": {
  "language_info": {
   "name": "python"
  },
  "orig_nbformat": 4
 },
 "nbformat": 4,
 "nbformat_minor": 2
}
