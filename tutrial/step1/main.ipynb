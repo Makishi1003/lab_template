{
 "cells": [
  {
   "attachments": {},
   "cell_type": "markdown",
   "metadata": {},
   "source": [
    "# 変数"
   ]
  },
  {
   "attachments": {},
   "cell_type": "markdown",
   "metadata": {},
   "source": [
    "- 基本的にPythonには大きく5種類の変数が存在する\n",
    "- 基本的にはこの5種類の種類の変数を用いてプログラムを作っていくことになる\n",
    "  - 料理で例えると具材にあたる\n"
   ]
  },
  {
   "attachments": {},
   "cell_type": "markdown",
   "metadata": {},
   "source": [
    "## 代入\n",
    "- まずはじめにpythonで変数に値を代入する方法を学ぶ\n",
    "- アルファベット,数値の集合体,アンダーバーを組み合わせて変数を宣言する\n",
    "- その後にその後に入れたい値を = で繋げる\n",
    "  - 例: a = 10"
   ]
  },
  {
   "cell_type": "code",
   "execution_count": null,
   "metadata": {},
   "outputs": [
    {
     "ename": "",
     "evalue": "",
     "output_type": "error",
     "traceback": [
      "\u001b[1;31m'/usr/bin/python3' でセルを実行するには、 ipykernel パッケージが必要です。\n",
      "\u001b[1;31m次のコマンドを実行して、'ipykernel' を Python 環境にインストールします。\n",
      "\u001b[1;31mコマンド: '/usr/bin/python3 -m pip install ipykernel -U --user --force-reinstall'"
     ]
    }
   ],
   "source": [
    "a = 10\n",
    "\n",
    "# また２つの変数に代入することもできる\n",
    "a,b = 10,20\n",
    "a,b,c = 10,20,30\n",
    "\n",
    "# アルファベット,数値の集合体,アンダーバーを組み合わせる\n",
    "num_test_1 = 10"
   ]
  },
  {
   "attachments": {},
   "cell_type": "markdown",
   "metadata": {},
   "source": [
    "## 変数の説明"
   ]
  },
  {
   "attachments": {},
   "cell_type": "markdown",
   "metadata": {},
   "source": [
    "### 1. 数値型 (Numeric Types)\n",
    "- 数値を表すために使用される以下のものがそれにあたる\n",
    "- 整数,小数型が存在\n",
    "- 以下に例を示す"
   ]
  },
  {
   "cell_type": "code",
   "execution_count": 22,
   "metadata": {},
   "outputs": [],
   "source": [
    "x = 10 # 整数\n",
    "y = 10.1 # 小数"
   ]
  },
  {
   "attachments": {},
   "cell_type": "markdown",
   "metadata": {},
   "source": [
    "### 2. 文字列型 (String Type)\n",
    "-  文字列を表すために使用される\n",
    "- 文字列は引用符で囲まれる。例: `name = \"John\"`"
   ]
  },
  {
   "cell_type": "code",
   "execution_count": 23,
   "metadata": {},
   "outputs": [],
   "source": [
    "str1 = \"こんにちは\"\n",
    "str2 = \"おはようございます\""
   ]
  },
  {
   "attachments": {},
   "cell_type": "markdown",
   "metadata": {},
   "source": [
    "### 3. ブール型 (Boolean Type)\n",
    "- 真偽値 (TrueまたはFalse) を表すために使用される(2種類)\n",
    "- 条件の評価や制御フローで使用される(if文やwhile文などである).  例: `is_true = True`"
   ]
  },
  {
   "cell_type": "code",
   "execution_count": 24,
   "metadata": {},
   "outputs": [],
   "source": [
    "a = True\n",
    "b = False"
   ]
  },
  {
   "attachments": {},
   "cell_type": "markdown",
   "metadata": {},
   "source": [
    "### 4. リスト型 (List Type): \n",
    "- 複数の要素を格納するために使用さる.\n",
    "- 要素は角かっこで囲まれ、カンマで区切られる   \n",
    "  - 例: `numbers = [1, 2, 3, 4]\n",
    "- 複数の値を持っているが,１つにまとめたい時などによく使う   \n",
    "  - 例: 毎週の小テストの点数を格納したい場合など"
   ]
  },
  {
   "cell_type": "code",
   "execution_count": 25,
   "metadata": {},
   "outputs": [
    {
     "name": "stdout",
     "output_type": "stream",
     "text": [
      "80\n"
     ]
    }
   ],
   "source": [
    "# 太郎くんの小テストの点数を格納するリスト\n",
    "taro_scores = [80, 70, 90, 60, 100]\n",
    "\n",
    "# 番号を指定することで、リストの中の要素を取り出すことができる\n",
    "print(taro_scores[0]) # 80"
   ]
  },
  {
   "attachments": {},
   "cell_type": "markdown",
   "metadata": {},
   "source": [
    "### 5. タプル型 (Tuple Type): \n",
    "- リストと似ているが変更不可 (immutable) なオブジェクト\n",
    "- 丸かっこで囲まれ、要素はカンマで区切らる\n",
    "  - 例: `point = (2, 3)`\n",
    "- ここの説明がわかりやすい[(ここをクリック)](https://www.lifewithpython.com/2017/12/python-tuple-list-difference.html#:~:text=%E3%81%A6%E3%81%84%E3%81%8D%E3%81%BE%E3%81%97%E3%82%87%E3%81%86%E3%80%82-,%E3%82%BF%E3%83%97%E3%83%AB%E3%81%A8%E3%81%AF,%E3%82%BF%E3%82%A4%E3%83%97%E3%81%AE%E3%83%87%E3%83%BC%E3%82%BF%E5%9E%8B%E3%81%A7%E3%81%99%E3%80%82&text=%E8%A6%8B%E3%81%9F%E7%9B%AE%E4%B8%8A%E3%81%AF%E3%83%AA%E3%82%B9%E3%83%88%E3%81%AE,%E3%81%A8%E3%82%88%E3%81%8F%E4%BC%BC%E3%81%A6%E3%81%84%E3%81%BE%E3%81%99%E3%80%82)"
   ]
  },
  {
   "attachments": {},
   "cell_type": "markdown",
   "metadata": {},
   "source": [
    "### 6. 辞書型 (Dictionary Type)\n",
    "- キーと値のペアを格納するために使用される\n",
    "- 中括弧で囲まれ、キーと値のペアはコロンで区切られる。\n",
    "  - 例: `person = {\"name\": \"John\", \"age\": 30}`"
   ]
  },
  {
   "cell_type": "code",
   "execution_count": 26,
   "metadata": {},
   "outputs": [
    {
     "name": "stdout",
     "output_type": "stream",
     "text": [
      "80\n"
     ]
    }
   ],
   "source": [
    "# 太郎くんの5教科の点数を格納するリスト\n",
    "taro_scores = {\"国語\": 80, \"数学\": 70, \"英語\": 90, \"理科\": 60, \"社会\": 100}\n",
    "\n",
    "# 取り出したい時は、辞書の中のキーを指定する\n",
    "print(taro_scores[\"国語\"]) # 80"
   ]
  },
  {
   "attachments": {},
   "cell_type": "markdown",
   "metadata": {},
   "source": [
    "### 7. 集合型 (Set Type): 一意の要素の集合を表すために使用される\n",
    "- 中括弧で囲まれ、要素はカンマで区切られる 例: `fruits = {\"apple\", \"banana\", \"orange\"}`"
   ]
  },
  {
   "attachments": {},
   "cell_type": "markdown",
   "metadata": {},
   "source": [
    "- これらはPythonでよく使用される変数の種類の一部\n",
    "- 他にもさまざまなデータ型や変数の種類がありますが、これらが基本的な種類(後はググって笑)\n"
   ]
  }
 ],
 "metadata": {
  "kernelspec": {
   "display_name": "Python 3",
   "language": "python",
   "name": "python3"
  },
  "language_info": {
   "codemirror_mode": {
    "name": "ipython",
    "version": 3
   },
   "file_extension": ".py",
   "mimetype": "text/x-python",
   "name": "python",
   "nbconvert_exporter": "python",
   "pygments_lexer": "ipython3",
   "version": "3.11.2"
  },
  "orig_nbformat": 4
 },
 "nbformat": 4,
 "nbformat_minor": 2
}
