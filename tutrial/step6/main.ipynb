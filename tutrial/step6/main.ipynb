{
 "cells": [
  {
   "attachments": {},
   "cell_type": "markdown",
   "metadata": {},
   "source": [
    "# for文\n",
    "- 繰り返し処理を行うために使用される制御構造(ループ処理)\n",
    "- 主にリストや範囲などのイテラブル（反復可能なオブジェクト）に対して要素を順番に取り出して処理を行う"
   ]
  },
  {
   "attachments": {},
   "cell_type": "markdown",
   "metadata": {},
   "source": [
    "```python\n",
    "for 要素 in イテラブル:\n",
    "    # 要素に対する処理\n",
    "```\n",
    "- for文のコードブロックはインデントされており、処理するブロック内のコードは通常、4つの半角スペースまたはタブでインデントされる"
   ]
  },
  {
   "attachments": {},
   "cell_type": "markdown",
   "metadata": {},
   "source": [
    "- *要素とは*\n",
    "  - イテラブルの値が順番に入ってくる\n",
    "  - つまりイテラブルの値を使い切ったらfor文はループが終わる"
   ]
  },
  {
   "attachments": {},
   "cell_type": "markdown",
   "metadata": {},
   "source": [
    "- *イテラブルとは*\n",
    "  - イテラブルは反復可能なオブジェクトであり、リスト、文字列、範囲（range）、タプルなどが使用さる\n",
    "  - 具体的な例をいくつか紹介する\n"
   ]
  },
  {
   "attachments": {},
   "cell_type": "markdown",
   "metadata": {},
   "source": [
    "## 1. rangeを使用したfor文\n",
    "- 基本的に一番よく使う,決まった数値から数値までを処理したい時などに使う\n",
    "```python\n",
    "  for i in range(num1,num2):\n",
    "    処理\n",
    "  ```\n",
    "  - この時num1以上,num2未満の数値がiに代入される\n",
    "  - iは別にjとかunchiとかでもなんでもいい"
   ]
  },
  {
   "cell_type": "code",
   "execution_count": 7,
   "metadata": {},
   "outputs": [
    {
     "name": "stdout",
     "output_type": "stream",
     "text": [
      "3\n",
      "4\n",
      "5\n",
      "6\n",
      "7\n",
      "8\n",
      "9\n"
     ]
    }
   ],
   "source": [
    "for i in range(3, 10):\n",
    "    print(i)"
   ]
  },
  {
   "attachments": {},
   "cell_type": "markdown",
   "metadata": {},
   "source": [
    "## 2. 繰り返す回数が決まっている場合\n",
    "- 繰り返したい回数が決まっている時に使う\n",
    "- こちらもrangeを使う\n",
    "```python\n",
    "for i in range(繰り返したい回数):\n",
    "  処理\n",
    "```"
   ]
  },
  {
   "cell_type": "code",
   "execution_count": 15,
   "metadata": {},
   "outputs": [
    {
     "name": "stdout",
     "output_type": "stream",
     "text": [
      "スタープラチナ\n",
      "オラオラ\n",
      "オラオラ\n",
      "オラオラ\n",
      "オラオラ\n",
      "オラオラ\n",
      "オラオラ\n",
      "オラオラ\n",
      "オラオラ\n",
      "オラオラ\n",
      "オラオラ\n"
     ]
    }
   ],
   "source": [
    "print(\"スタープラチナ\")\n",
    "for i in range(10):\n",
    "    print(\"オラオラ\")\n",
    "# 10回もオラオラされてしまいましたね"
   ]
  },
  {
   "attachments": {},
   "cell_type": "markdown",
   "metadata": {},
   "source": [
    "## 3. リスト型を使用したfor文\n",
    "- これはList自体をイテラブルに指定する\n",
    "```python\n",
    "for i in リスト型:\n",
    "  処理\n",
    "```\n",
    "- iにリストの数がそれぞれ格納されていく"
   ]
  },
  {
   "cell_type": "code",
   "execution_count": 10,
   "metadata": {},
   "outputs": [
    {
     "name": "stdout",
     "output_type": "stream",
     "text": [
      "1\n",
      "2\n",
      "3\n",
      "4\n",
      "5\n"
     ]
    }
   ],
   "source": [
    "L_sample = [1, 2, 3, 4, 5]\n",
    "for i in L_sample:\n",
    "    print(i)"
   ]
  },
  {
   "attachments": {},
   "cell_type": "markdown",
   "metadata": {},
   "source": [
    "## 4. 辞書型配列を使用したfor文\n",
    "- 辞書型を用いても記載することができる\n",
    "```\n",
    "for キー,値 in 辞書型.items():  \n",
    "  処理\n",
    "```\n",
    "- 具体例を見た方が早い\n",
    "- またこの時キーと値の変数名も自由"
   ]
  },
  {
   "cell_type": "code",
   "execution_count": 13,
   "metadata": {},
   "outputs": [
    {
     "name": "stdout",
     "output_type": "stream",
     "text": [
      "A 1\n",
      "B 2\n",
      "C 3\n"
     ]
    }
   ],
   "source": [
    "Dict_sample = {\"A\": 1, \"B\": 2, \"C\": 3}\n",
    "for key,value in Dict_sample.items():\n",
    "    print(key, value)"
   ]
  }
 ],
 "metadata": {
  "kernelspec": {
   "display_name": "Python 3",
   "language": "python",
   "name": "python3"
  },
  "language_info": {
   "codemirror_mode": {
    "name": "ipython",
    "version": 3
   },
   "file_extension": ".py",
   "mimetype": "text/x-python",
   "name": "python",
   "nbconvert_exporter": "python",
   "pygments_lexer": "ipython3",
   "version": "3.11.3"
  },
  "orig_nbformat": 4
 },
 "nbformat": 4,
 "nbformat_minor": 2
}
