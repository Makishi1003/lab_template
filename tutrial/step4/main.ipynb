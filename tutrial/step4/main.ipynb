{
 "cells": [
  {
   "attachments": {},
   "cell_type": "markdown",
   "metadata": {},
   "source": [
    "# 論理演算子\n",
    "- 以下に論理演算子の種類とその説明を示す"
   ]
  },
  {
   "attachments": {},
   "cell_type": "markdown",
   "metadata": {},
   "source": [
    "### 1. and演算子（かつ）: and\n",
    "- 条件式がすべてTrueの場合にTrueを返す\n",
    "- 例: x > 5 and y < 10は、xが5より大きくかつyが10より小さい場合にTrueを返す"
   ]
  },
  {
   "cell_type": "code",
   "execution_count": 4,
   "metadata": {},
   "outputs": [
    {
     "name": "stdout",
     "output_type": "stream",
     "text": [
      "True\n"
     ]
    }
   ],
   "source": [
    "x = 10\n",
    "y = 3\n",
    "print(x > 5 and y < 10)"
   ]
  },
  {
   "attachments": {},
   "cell_type": "markdown",
   "metadata": {},
   "source": [
    "### 2. or演算子（または）: or\n",
    "- 条件式のいずれかがTrueの場合にTrueを返す\n",
    "- 例: x > 5 or y < 10は、xが5より大きいかまたはyが10より小さい場合にTrueを返す"
   ]
  },
  {
   "cell_type": "code",
   "execution_count": 5,
   "metadata": {},
   "outputs": [
    {
     "name": "stdout",
     "output_type": "stream",
     "text": [
      "True\n"
     ]
    }
   ],
   "source": [
    "x = 10\n",
    "y = 30\n",
    "print(x > 5 or y < 10)"
   ]
  },
  {
   "attachments": {},
   "cell_type": "markdown",
   "metadata": {},
   "source": [
    "### 3. not演算子（でない）: not\n",
    "- 条件式の結果を反転させる\n",
    "- TrueはFalseに、FalseはTrueに反転させる\n",
    "- 例: not x > 5は、xが5より大きくない場合にTrueを返す"
   ]
  },
  {
   "cell_type": "code",
   "execution_count": 6,
   "metadata": {},
   "outputs": [
    {
     "name": "stdout",
     "output_type": "stream",
     "text": [
      "False\n"
     ]
    }
   ],
   "source": [
    "x = 10\n",
    "y = 30\n",
    "print(not x > 5)"
   ]
  },
  {
   "attachments": {},
   "cell_type": "markdown",
   "metadata": {},
   "source": [
    "## 補足説明\n",
    "- 基本的に以上のような値は変数に格納することができる\n",
    "- 例を以下に示す"
   ]
  },
  {
   "cell_type": "code",
   "execution_count": 8,
   "metadata": {},
   "outputs": [
    {
     "name": "stdout",
     "output_type": "stream",
     "text": [
      "True True False\n"
     ]
    }
   ],
   "source": [
    "a = 10\n",
    "b = 20\n",
    "c = 10\n",
    "\n",
    "ans1 = (a == c and b > a) # 醜いためカッコをつけたが、カッコはあってもなくても良い\n",
    "ans2 = (a != b or b > a)\n",
    "ans3 = (not b > a )\n",
    "\n",
    "print(ans1,ans2,ans3)"
   ]
  }
 ],
 "metadata": {
  "kernelspec": {
   "display_name": "Python 3",
   "language": "python",
   "name": "python3"
  },
  "language_info": {
   "codemirror_mode": {
    "name": "ipython",
    "version": 3
   },
   "file_extension": ".py",
   "mimetype": "text/x-python",
   "name": "python",
   "nbconvert_exporter": "python",
   "pygments_lexer": "ipython3",
   "version": "3.11.3"
  },
  "orig_nbformat": 4
 },
 "nbformat": 4,
 "nbformat_minor": 2
}
