{
 "cells": [
  {
   "attachments": {},
   "cell_type": "markdown",
   "metadata": {},
   "source": [
    "# 関数\n",
    "- 複数の処理をまとめて実行するために使用される、再利用可能なコードのブロックを指す\n",
    "- print()も立派な関数なのである\n",
    "```python\n",
    "def 関数名(引数名):\n",
    "  引数名を使って何かしらの処理\n",
    "```\n",
    "- 具体的に以下に偶数か奇数かを返す関数を示す"
   ]
  },
  {
   "cell_type": "code",
   "execution_count": 1,
   "metadata": {},
   "outputs": [],
   "source": [
    "def check_num_type(num):\n",
    "  if num % 2 == 0:\n",
    "    print(\"Even\")\n",
    "  else:\n",
    "    print(\"Odd\")\n",
    "    "
   ]
  },
  {
   "attachments": {},
   "cell_type": "markdown",
   "metadata": {},
   "source": [
    "- また関数を使いたい時には以下のようにする\n",
    "```python\n",
    "関数名(引数)\n",
    "```"
   ]
  },
  {
   "cell_type": "code",
   "execution_count": 2,
   "metadata": {},
   "outputs": [
    {
     "name": "stdout",
     "output_type": "stream",
     "text": [
      "Odd\n"
     ]
    }
   ],
   "source": [
    "check_num_type(1)"
   ]
  },
  {
   "attachments": {},
   "cell_type": "markdown",
   "metadata": {},
   "source": [
    "- また帰ってきた値を使って何かをする場合は、returnを使う\n",
    "- 以下に消費税を計算するコードを書く\n",
    "- また引数のところにデフォルトの値を指定することもできる"
   ]
  },
  {
   "cell_type": "code",
   "execution_count": 3,
   "metadata": {},
   "outputs": [],
   "source": [
    "# 消費税を計算する関数\n",
    "def calc_tax(price, tax_rate=0.1):\n",
    "  return price * tax_rate"
   ]
  },
  {
   "attachments": {},
   "cell_type": "markdown",
   "metadata": {},
   "source": [
    "### 関数を使うメリット\n",
    "1. 使い回すことができる\n",
    "2. コードが綺麗に見える\n",
    "##### 例えばイートインでご飯を食べて,テイクアウトで食事を持ちかった時にかかった値段を計算するケースを考える\n",
    "- 以下にコードを示す"
   ]
  },
  {
   "cell_type": "code",
   "execution_count": 4,
   "metadata": {},
   "outputs": [],
   "source": [
    "def check_price(takeout,eating_in):\n",
    "  takeout_price = calc_tax(takeout,0.08)\n",
    "  eating_in_price = calc_tax(eating_in,0.1)\n",
    "  return takeout_price + eating_in_price\n",
    "  "
   ]
  },
  {
   "attachments": {},
   "cell_type": "markdown",
   "metadata": {},
   "source": [
    "- このようにcalc_taxという関数を実装したことで重なる処理をまとめることができ,コードがより読みやすくなった"
   ]
  },
  {
   "cell_type": "markdown",
   "metadata": {},
   "source": []
  }
 ],
 "metadata": {
  "kernelspec": {
   "display_name": "Python 3",
   "language": "python",
   "name": "python3"
  },
  "language_info": {
   "codemirror_mode": {
    "name": "ipython",
    "version": 3
   },
   "file_extension": ".py",
   "mimetype": "text/x-python",
   "name": "python",
   "nbconvert_exporter": "python",
   "pygments_lexer": "ipython3",
   "version": "3.11.3"
  },
  "orig_nbformat": 4
 },
 "nbformat": 4,
 "nbformat_minor": 2
}
